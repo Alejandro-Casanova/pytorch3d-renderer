{
 "cells": [
  {
   "cell_type": "code",
   "execution_count": 47,
   "metadata": {},
   "outputs": [],
   "source": [
    "import os\n",
    "import sys\n",
    "import torch\n",
    "import numpy as np\n",
    "import json\n",
    "if torch.__version__=='1.6.0+cu101' and sys.platform.startswith('linux'):\n",
    "    !pip install pytorch3d\n",
    "else:\n",
    "    need_pytorch3d=False\n",
    "    try:\n",
    "        import pytorch3d\n",
    "    except ModuleNotFoundError:\n",
    "        need_pytorch3d=True\n",
    "    if need_pytorch3d:\n",
    "        !curl -LO https://github.com/NVIDIA/cub/archive/1.10.0.tar.gz\n",
    "        !tar xzf 1.10.0.tar.gz\n",
    "        os.environ[\"CUB_HOME\"] = os.getcwd() + \"/cub-1.10.0\"\n",
    "        !pip install 'git+https://github.com/facebookresearch/pytorch3d.git@stable'\n",
    "from pytorch3d.io import load_obj\n",
    "from pytorch3d.structures import Meshes\n",
    "from pytorch3d.renderer import (\n",
    "    look_at_view_transform,\n",
    "    FoVPerspectiveCameras, \n",
    "    FoVOrthographicCameras, \n",
    "    Materials, \n",
    "    RasterizationSettings, \n",
    "    MeshRenderer, \n",
    "    MeshRasterizer,  \n",
    "    SoftPhongShader,\n",
    "    TexturesVertex,\n",
    "    TexturesAtlas,\n",
    "    PointsRenderer,\n",
    "    PointsRasterizationSettings,\n",
    "    PointsRasterizer\n",
    ")     \n",
    "import matplotlib.pyplot as plt\n",
    "import matplotlib\n",
    "from utils import Params"
   ]
  },
  {
   "cell_type": "code",
   "execution_count": 48,
   "metadata": {},
   "outputs": [],
   "source": [
    "# Set the device\n",
    "if torch.cuda.is_available():\n",
    "    device = torch.device(\"cuda:0\")\n",
    "    torch.cuda.set_device(device)\n",
    "else:\n",
    "    device = torch.device(\"cpu\")\n",
    "# Import parameters    \n",
    "params = Params(\"params.json\")\n",
    "obj_filename = params.obj_filename"
   ]
  },
  {
   "cell_type": "code",
   "execution_count": 11,
   "metadata": {},
   "outputs": [],
   "source": [
    "def get_mesh(obj_filename, device):\n",
    "    \"\"\"\n",
    "    Generates Meshes object and initializes the mesh with vertices, faces, and textures.\n",
    "\n",
    "    Args:\n",
    "        obj_filename: str, path to the 3D obj filename\n",
    "        device: str, the torch device containing a device type ('cpu' or 'cuda') \n",
    "\n",
    "    Returns:\n",
    "        mesh: Meshes object\n",
    "    \"\"\"\n",
    "    # Get vertices, faces, and auxiliary information\n",
    "    verts, faces, aux = load_obj(\n",
    "        obj_filename,\n",
    "        device=device,\n",
    "        load_textures=True,\n",
    "        create_texture_atlas=True,\n",
    "        texture_atlas_size=4,\n",
    "        texture_wrap=\"repeat\"\n",
    "         )\n",
    "    # Create a textures object\n",
    "    atlas = aux.texture_atlas\n",
    "    # Create Meshes object\n",
    "    mesh = Meshes(\n",
    "        verts=[verts],\n",
    "        faces=[faces.verts_idx],\n",
    "        textures=TexturesAtlas(atlas=[atlas]),)  \n",
    "    return mesh"
   ]
  },
  {
   "cell_type": "code",
   "execution_count": 44,
   "metadata": {},
   "outputs": [],
   "source": [
    "def get_renderer(image_size, dist, device, elev, azim):\n",
    "    \"\"\"\n",
    "    Generates Meshes object and initializes the mesh with vertices, faces, and textures.\n",
    "\n",
    "    Args:\n",
    "        image_size: int, the size of the rendered .png image\n",
    "        dist: int, distance between the camera and 3D object\n",
    "        device: str, the torch device containing a device type ('cpu' or 'cuda') \n",
    "        elev: list, contains elevation values\n",
    "        azim: list, contains azimuth angle values\n",
    "\n",
    "    Returns:\n",
    "        renderer: MeshRenderer class\n",
    "    \"\"\"\n",
    "    # Initialize the camera with camera distance, elevation, azimuth angle, and image size\n",
    "    R, T = look_at_view_transform(dist = dist, elev = elev, azim = azim) \n",
    "    cameras = FoVPerspectiveCameras(device=device, R=R, T=T)\n",
    "    raster_settings = RasterizationSettings(\n",
    "        image_size = image_size, \n",
    "        blur_radius = 0.0, \n",
    "        faces_per_pixel = 1, \n",
    "    )\n",
    "    # Initialize rasterizer by using a MeshRasterizer class\n",
    "    rasterizer = MeshRasterizer(\n",
    "        cameras=cameras, \n",
    "        raster_settings=raster_settings\n",
    "    )\n",
    "    # The textured phong shader interpolates the texture uv coordinates for \n",
    "    # each vertex, and samples from a texture image.\n",
    "    shader = SoftPhongShader(device = device, cameras = cameras)\n",
    "    # Create a mesh renderer by composing a rasterizer and a shader\n",
    "    renderer = MeshRenderer(rasterizer, shader)\n",
    "    return renderer"
   ]
  },
  {
   "cell_type": "code",
   "execution_count": 45,
   "metadata": {},
   "outputs": [
    {
     "name": "stdout",
     "output_type": "stream",
     "text": [
      "MeshRenderer(\n",
      "  (rasterizer): MeshRasterizer(\n",
      "    (cameras): FoVPerspectiveCameras()\n",
      "  )\n",
      "  (shader): SoftPhongShader(\n",
      "    (lights): PointLights()\n",
      "    (materials): Materials()\n",
      "    (cameras): FoVPerspectiveCameras()\n",
      "  )\n",
      ")\n"
     ]
    }
   ],
   "source": [
    "renderer = get_renderer(params.image_size, params.camera_dist, device, 5, 5)\n",
    "print(renderer)"
   ]
  },
  {
   "cell_type": "code",
   "execution_count": 13,
   "metadata": {},
   "outputs": [],
   "source": [
    "def render_image(renderer, mesh, obj_filename, azim, elev):\n",
    "    \"\"\"\n",
    "    Generates Meshes object and initializes the mesh with vertices, faces, and textures.\n",
    "\n",
    "    Args:\n",
    "        image_size: int, the size of the rendered .png image\n",
    "        dist: int, distance between the camera and 3D object\n",
    "        device: str, the torch device containing a device type ('cpu' or 'cuda') \n",
    "        elev: list, contains elevation values\n",
    "        azim: list, contains azimuth angle values\n",
    "\n",
    "    Returns:\n",
    "        renderer: MeshRenderer class\n",
    "    \"\"\"\n",
    "    image = renderer(mesh)\n",
    "    dir_to_save = \"out\"\n",
    "    os.makedirs(dir_to_save, exist_ok = True)\n",
    "    out = os.path.normpath(obj_filename).split(os.path.sep)\n",
    "    mesh_filename = out[-1].split(\".\")[0]\n",
    "    sep = '_'\n",
    "    file_to_save = '{0}{1}{2}{3}{4}{5}{6}{7}'.format(mesh_filename, sep, \"elev\",  \n",
    "                                                       int(elev), sep, \"azim\", int(azim), \".png\")\n",
    "    filename = os.path.join(dir_to_save, file_to_save)\n",
    "    matplotlib.image.imsave(filename, image[0, ..., :3].cpu().numpy())\n",
    "    "
   ]
  },
  {
   "cell_type": "code",
   "execution_count": 31,
   "metadata": {},
   "outputs": [],
   "source": [
    "def compile_all_steps(image_size, dist, device, elev, azim, obj_filename):\n",
    "    \"\"\"\n",
    "    Renders an image using MeshRenderer class and Meshes object. Saves the rendered image as a .png file\n",
    "\n",
    "    Args:\n",
    "        image_size: int, the size of the rendered .png image\n",
    "        dist: int, distance between the camera and 3D object\n",
    "        device: str, the torch device containing a device type ('cpu' or 'cuda') \n",
    "        elev: list, contains elevation values\n",
    "        azim: list, contains azimuth angle values\n",
    "        obj_filename: str, path to the 3D obj filename\n",
    "\n",
    "    Returns:\n",
    "        None\n",
    "    \"\"\"    \n",
    "    renderer = get_renderer(image_size, dist, device, elev, azim)\n",
    "    mesh = get_mesh(obj_filename, device)\n",
    "    render_image(renderer, mesh, obj_filename, azim, elev)\n",
    "    return None"
   ]
  },
  {
   "cell_type": "code",
   "execution_count": 17,
   "metadata": {},
   "outputs": [],
   "source": [
    "#do_all(params.image_size, params.camera_dist, device, params.elevation, params.azim_angle, params.obj_filename)"
   ]
  },
  {
   "cell_type": "code",
   "execution_count": 29,
   "metadata": {},
   "outputs": [],
   "source": [
    "out = [do_all(params.image_size, params.camera_dist, device, x, y, params.obj_filename)\n",
    " for x in params.elevation for y in params.azim_angle]"
   ]
  },
  {
   "cell_type": "code",
   "execution_count": null,
   "metadata": {},
   "outputs": [],
   "source": []
  },
  {
   "cell_type": "code",
   "execution_count": 35,
   "metadata": {},
   "outputs": [],
   "source": [
    "def main():\n",
    "     [compile_all_steps(params.image_size, params.camera_dist, device, x, y, params.obj_filename)\n",
    "         for x in params.elevation for y in params.azim_angle]\n",
    "    "
   ]
  },
  {
   "cell_type": "code",
   "execution_count": 36,
   "metadata": {},
   "outputs": [],
   "source": [
    "main()\n"
   ]
  },
  {
   "cell_type": "code",
   "execution_count": null,
   "metadata": {},
   "outputs": [],
   "source": []
  },
  {
   "cell_type": "code",
   "execution_count": null,
   "metadata": {},
   "outputs": [],
   "source": []
  },
  {
   "cell_type": "code",
   "execution_count": null,
   "metadata": {},
   "outputs": [],
   "source": []
  }
 ],
 "metadata": {
  "kernelspec": {
   "display_name": "Python 3",
   "language": "python",
   "name": "python3"
  },
  "language_info": {
   "codemirror_mode": {
    "name": "ipython",
    "version": 3
   },
   "file_extension": ".py",
   "mimetype": "text/x-python",
   "name": "python",
   "nbconvert_exporter": "python",
   "pygments_lexer": "ipython3",
   "version": "3.8.8"
  }
 },
 "nbformat": 4,
 "nbformat_minor": 4
}
